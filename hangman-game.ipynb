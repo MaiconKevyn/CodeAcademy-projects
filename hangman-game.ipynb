{
 "cells": [
  {
   "cell_type": "code",
   "execution_count": 2,
   "metadata": {},
   "outputs": [],
   "source": [
    "from os import system, name\n",
    "import random"
   ]
  },
  {
   "cell_type": "code",
   "execution_count": 4,
   "metadata": {},
   "outputs": [],
   "source": [
    "def limpa_tela():\n",
    "    if name == 'nt':\n",
    "        system('cls')\n",
    "    else:\n",
    "        system('clear')\n"
   ]
  },
  {
   "cell_type": "code",
   "execution_count": null,
   "metadata": {},
   "outputs": [],
   "source": [
    "def game():\n",
    "    limpa_tela()\n",
    "    \n",
    "    print('\\n Bem vindo ao jogo da forca! \\n')\n",
    "    print('\\n Adivinhe a palavra abaixo: \\n')\n",
    "    \n",
    "    palavras = ['banana', 'abacaxi', 'manga', 'morango', 'melancia', 'melao', 'laranja', 'uva', 'pera', 'maca']\n",
    "    palavra = random.choice(palavras)\n",
    "    \n",
    "    letras_descobertas = ['_' for letra in palavra]\n",
    "    chances = 6\n",
    "    \n",
    "    letras_erradas = []\n",
    "    \n",
    "    \n",
    "    while chances > 0:\n",
    "        print(letras_descobertas)\n",
    "        print(f'Chances restantes: {chances}')\n",
    "        print(f'Letras erradas: {letras_erradas}')\n",
    "        letra = input('Digite uma letra: ')\n",
    "        \n",
    "        if letra in palavra:\n",
    "            for i in range(len(palavra)):\n",
    "                if letra == palavra[i]:\n",
    "                    letras_descobertas[i] = letra\n",
    "        else:\n",
    "            chances -= 1\n",
    "            letras_erradas.append(letra)\n",
    "        \n",
    "        if '_' not in letras_descobertas:\n",
    "            print('Parabéns, você ganhou!')\n",
    "            break"
   ]
  },
  {
   "cell_type": "code",
   "execution_count": 18,
   "metadata": {},
   "outputs": [],
   "source": [
    "a = 5\n",
    "b = 10\n",
    "\n",
    "def soma(a, b):\n",
    "    a+= 5\n",
    "    b += 10\n",
    "    return a, b\n",
    "\n",
    "a, b = soma(a, b)\n"
   ]
  },
  {
   "cell_type": "code",
   "execution_count": 14,
   "metadata": {},
   "outputs": [
    {
     "name": "stdout",
     "output_type": "stream",
     "text": [
      "6 5\n"
     ]
    }
   ],
   "source": [
    "print(soma(a), a)"
   ]
  },
  {
   "cell_type": "code",
   "execution_count": 34,
   "metadata": {},
   "outputs": [
    {
     "name": "stdout",
     "output_type": "stream",
     "text": [
      "é int\n",
      "CPU times: total: 0 ns\n",
      "Wall time: 0 ns\n"
     ]
    }
   ],
   "source": [
    "%%time \n",
    "\n",
    "a = 5\n",
    "\n",
    "if a == 6:\n",
    "    print('a é igual a 5')\n",
    "if type(a) == int:\n",
    "    print('é int')"
   ]
  },
  {
   "cell_type": "code",
   "execution_count": 35,
   "metadata": {},
   "outputs": [
    {
     "name": "stdout",
     "output_type": "stream",
     "text": [
      "a é igual a 5\n",
      "\n",
      "CPU times: total: 0 ns\n",
      "Wall time: 0 ns\n"
     ]
    }
   ],
   "source": [
    "%%time \n",
    "\n",
    "a = 5\n",
    "\n",
    "if a == 5:\n",
    "    print('a é igual a 5\\n')\n",
    "elif type(a) == int:\n",
    "    print('é int')"
   ]
  },
  {
   "cell_type": "code",
   "execution_count": null,
   "metadata": {},
   "outputs": [],
   "source": []
  }
 ],
 "metadata": {
  "kernelspec": {
   "display_name": "base",
   "language": "python",
   "name": "python3"
  },
  "language_info": {
   "codemirror_mode": {
    "name": "ipython",
    "version": 3
   },
   "file_extension": ".py",
   "mimetype": "text/x-python",
   "name": "python",
   "nbconvert_exporter": "python",
   "pygments_lexer": "ipython3",
   "version": "3.11.5"
  }
 },
 "nbformat": 4,
 "nbformat_minor": 2
}
