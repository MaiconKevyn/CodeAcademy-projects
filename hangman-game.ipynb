{
 "cells": [
  {
   "cell_type": "code",
   "execution_count": 1,
   "metadata": {},
   "outputs": [],
   "source": [
    "from os import system, name\n",
    "import random"
   ]
  },
  {
   "cell_type": "code",
   "execution_count": 2,
   "metadata": {},
   "outputs": [],
   "source": [
    "def limpa_tela():\n",
    "    if name == 'nt':\n",
    "        system('cls')\n",
    "    else:\n",
    "        system('clear')\n"
   ]
  },
  {
   "cell_type": "code",
   "execution_count": 10,
   "metadata": {},
   "outputs": [],
   "source": [
    "def game():\n",
    "    limpa_tela()\n",
    "    \n",
    "    print('\\n Bem vindo ao jogo da forca! \\n')\n",
    "    print('\\n Adivinhe a palavra abaixo: \\n')\n",
    "    \n",
    "    palavras = ['banana', 'abacaxi', 'manga', 'morango', 'melancia', 'melao', 'laranja', 'uva', 'pera', 'maca']\n",
    "    palavra = random.choice(palavras)\n",
    "    \n",
    "    letras_descobertas = ['_' for letra in palavra]\n",
    "    chances = 6\n",
    "    \n",
    "    letras_erradas = []\n",
    "    \n",
    "    \n",
    "    while chances > 0:\n",
    "        print(letras_descobertas)\n",
    "        print(f'\\nChances restantes: {chances}')\n",
    "        print(f'Letras erradas: {letras_erradas}')\n",
    "        letra = input('Digite uma letra: ')\n",
    "        \n",
    "        if letra in palavra:\n",
    "            for i in range(len(palavra)):\n",
    "                if letra == palavra[i]:\n",
    "                    letras_descobertas[i] = letra\n",
    "        else:\n",
    "            chances -= 1\n",
    "            letras_erradas.append(letra)\n",
    "        \n",
    "        if '_' not in letras_descobertas:\n",
    "            print(f'Parabéns, você ganhou! A palavra era:{palavra}')\n",
    "            break\n",
    "if __name__ == '__main__':\n",
    "    game()"
   ]
  }
 ],
 "metadata": {
  "kernelspec": {
   "display_name": "base",
   "language": "python",
   "name": "python3"
  },
  "language_info": {
   "codemirror_mode": {
    "name": "ipython",
    "version": 3
   },
   "file_extension": ".py",
   "mimetype": "text/x-python",
   "name": "python",
   "nbconvert_exporter": "python",
   "pygments_lexer": "ipython3",
   "version": "3.12.0"
  }
 },
 "nbformat": 4,
 "nbformat_minor": 2
}
