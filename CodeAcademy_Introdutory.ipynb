{
 "cells": [
  {
   "cell_type": "code",
   "execution_count": 35,
   "id": "3e69bf6b-c17b-441c-83b0-cd48ba957bfb",
   "metadata": {
    "tags": []
   },
   "outputs": [
    {
     "data": {
      "text/plain": [
       "[1, 2, 3, 5, 24, 24, 43, 67, 75]"
      ]
     },
     "execution_count": 35,
     "metadata": {},
     "output_type": "execute_result"
    }
   ],
   "source": [
    "lista = [1, 3, 5, 2, 75, 24, 67, 24, 43]\n",
    "\n",
    "n = len(lista)\n",
    "        \n",
    "for j in range(n-1):\n",
    "    for i in range(n-1):\n",
    "        if lista[j] > lista[j+1]:\n",
    "            lista[j], lista[j+1] = lista[j+1], lista[j]\n",
    "            \n",
    "arr"
   ]
  },
  {
   "cell_type": "code",
   "execution_count": 50,
   "id": "ba5d8f16-366f-41b2-a37f-ce87322bd564",
   "metadata": {
    "tags": []
   },
   "outputs": [
    {
     "name": "stdout",
     "output_type": "stream",
     "text": [
      "Help on method applymap in module pandas.core.frame:\n",
      "\n",
      "applymap(func: 'PythonFuncType', na_action: 'NaAction | None' = None, **kwargs) -> 'DataFrame' method of pandas.core.frame.DataFrame instance\n",
      "    Apply a function to a Dataframe elementwise.\n",
      "    \n",
      "    .. deprecated:: 2.1.0\n",
      "    \n",
      "       DataFrame.applymap has been deprecated. Use DataFrame.map instead.\n",
      "    \n",
      "    This method applies a function that accepts and returns a scalar\n",
      "    to every element of a DataFrame.\n",
      "    \n",
      "    Parameters\n",
      "    ----------\n",
      "    func : callable\n",
      "        Python function, returns a single value from a single value.\n",
      "    na_action : {None, 'ignore'}, default None\n",
      "        If 'ignore', propagate NaN values, without passing them to func.\n",
      "    **kwargs\n",
      "        Additional keyword arguments to pass as keywords arguments to\n",
      "        `func`.\n",
      "    \n",
      "    Returns\n",
      "    -------\n",
      "    DataFrame\n",
      "        Transformed DataFrame.\n",
      "    \n",
      "    See Also\n",
      "    --------\n",
      "    DataFrame.apply : Apply a function along input axis of DataFrame.\n",
      "    DataFrame.map : Apply a function along input axis of DataFrame.\n",
      "    DataFrame.replace: Replace values given in `to_replace` with `value`.\n",
      "    \n",
      "    Examples\n",
      "    --------\n",
      "    >>> df = pd.DataFrame([[1, 2.12], [3.356, 4.567]])\n",
      "    >>> df\n",
      "           0      1\n",
      "    0  1.000  2.120\n",
      "    1  3.356  4.567\n",
      "    \n",
      "    >>> df.map(lambda x: len(str(x)))\n",
      "       0  1\n",
      "    0  3  4\n",
      "    1  5  5\n",
      "\n"
     ]
    }
   ],
   "source": [
    "help(df.applymap)\n"
   ]
  },
  {
   "cell_type": "markdown",
   "id": "1692b66c-6318-43e4-92a8-ea5578566822",
   "metadata": {},
   "source": [
    "### List Comprehension"
   ]
  },
  {
   "cell_type": "code",
   "execution_count": 52,
   "id": "3ef9337a-4853-487d-90f1-91f6892f2903",
   "metadata": {
    "tags": []
   },
   "outputs": [
    {
     "data": {
      "text/plain": [
       "[0, 1, 2, 3, 4, 5, 6, 7, 8, 9]"
      ]
     },
     "execution_count": 52,
     "metadata": {},
     "output_type": "execute_result"
    }
   ],
   "source": [
    "[x for x in range(10)]"
   ]
  },
  {
   "cell_type": "code",
   "execution_count": 53,
   "id": "2367a1c6-6e70-42e6-a19a-3743585eb9c6",
   "metadata": {
    "tags": []
   },
   "outputs": [],
   "source": [
    "lista_numeros = [x for x in range(20)]\n"
   ]
  },
  {
   "cell_type": "code",
   "execution_count": 54,
   "id": "20eb4981-e271-46f4-8a73-c3d6577820e7",
   "metadata": {
    "tags": []
   },
   "outputs": [
    {
     "data": {
      "text/plain": [
       "[0, 1, 2, 3, 4, 5, 6, 7, 8, 9, 10, 11, 12, 13, 14, 15, 16, 17, 18, 19]"
      ]
     },
     "execution_count": 54,
     "metadata": {},
     "output_type": "execute_result"
    }
   ],
   "source": [
    "lista_numeros"
   ]
  },
  {
   "cell_type": "code",
   "execution_count": 57,
   "id": "d73fb959-bd4c-4fcc-89c5-64f2bb58c40b",
   "metadata": {
    "tags": []
   },
   "outputs": [
    {
     "data": {
      "text/plain": [
       "[0, 1, 2, 3, 4]"
      ]
     },
     "execution_count": 57,
     "metadata": {},
     "output_type": "execute_result"
    }
   ],
   "source": [
    "lista_numeros = [x for x in range(10) if x <5]\n",
    "lista_numeros"
   ]
  },
  {
   "cell_type": "code",
   "execution_count": 68,
   "id": "459633e4-a4d9-4e22-a7f2-66cdde852ae2",
   "metadata": {
    "tags": []
   },
   "outputs": [],
   "source": [
    "lista_frutas = ['banana', 'abacate', 'maca', 'cereja', 'manga']\n",
    "\n",
    "nova_lista = []"
   ]
  },
  {
   "cell_type": "code",
   "execution_count": 69,
   "id": "9d25ab84-b543-4098-89c5-9d65fad1d37d",
   "metadata": {
    "tags": []
   },
   "outputs": [
    {
     "data": {
      "text/plain": [
       "['maca', 'manga']"
      ]
     },
     "execution_count": 69,
     "metadata": {},
     "output_type": "execute_result"
    }
   ],
   "source": [
    "for x in lista_frutas:\n",
    "    if \"m\" in x:\n",
    "        nova_lista.append(x)\n",
    "nova_lista"
   ]
  },
  {
   "cell_type": "code",
   "execution_count": 70,
   "id": "10e898c7-d2e3-4560-ab44-df3a9882c632",
   "metadata": {
    "tags": []
   },
   "outputs": [
    {
     "data": {
      "text/plain": [
       "['maca', 'manga']"
      ]
     },
     "execution_count": 70,
     "metadata": {},
     "output_type": "execute_result"
    }
   ],
   "source": [
    "nova_lista = [x for x in lista_frutas if \"m\" in x]\n",
    "nova_lista"
   ]
  },
  {
   "cell_type": "markdown",
   "id": "91f42cb8-c41c-4634-b8cb-e555bb4c1b69",
   "metadata": {},
   "source": [
    "## Dict Comprehension"
   ]
  },
  {
   "cell_type": "code",
   "execution_count": 72,
   "id": "150ed86c-64f4-43e4-b4fc-689e90a52692",
   "metadata": {
    "tags": []
   },
   "outputs": [
    {
     "data": {
      "text/plain": [
       "{'Bob': 68, 'Michel': 84, 'Zico': 57, 'Ana': 93}"
      ]
     },
     "execution_count": 72,
     "metadata": {},
     "output_type": "execute_result"
    }
   ],
   "source": [
    "dic_alunos = {'Bob':68, 'Michel':84, 'Zico':57, 'Ana':93}\n",
    "\n",
    "#retorna key:value para cada key, value no dicionário dic_alunos\n",
    "dic_alunos_status = {k:v for (k, v) in dic_alunos.items()}\n",
    "dic_alunos_status"
   ]
  },
  {
   "cell_type": "code",
   "execution_count": 79,
   "id": "16383efc-722a-447c-afe3-eaab40b88f39",
   "metadata": {
    "tags": []
   },
   "outputs": [
    {
     "data": {
      "text/plain": [
       "{'Bob': 'Reprovado',\n",
       " 'Michel': 'Aprovado',\n",
       " 'Zico': 'Reprovado',\n",
       " 'Ana': 'Aprovado'}"
      ]
     },
     "execution_count": 79,
     "metadata": {},
     "output_type": "execute_result"
    }
   ],
   "source": [
    "dic_aluno_status2 = {k: ('Aprovado' if v > 70 else 'Reprovado') for (k,v) in dic_alunos.items()}\n",
    "\n",
    "\n",
    "dic_aluno_status"
   ]
  },
  {
   "cell_type": "markdown",
   "id": "859b0d2a-a47f-4c18-89b6-eb8b5e962eab",
   "metadata": {
    "tags": []
   },
   "source": [
    "## Calculadora"
   ]
  },
  {
   "cell_type": "code",
   "execution_count": 87,
   "id": "7ae5f39c-5485-47e3-9a4b-25977bb35df2",
   "metadata": {
    "tags": []
   },
   "outputs": [
    {
     "name": "stdout",
     "output_type": "stream",
     "text": [
      "********************** Calculadora em Python **********************\n"
     ]
    },
    {
     "name": "stdout",
     "output_type": "stream",
     "text": [
      "Selecione o número da operação desejada:\n",
      "\n",
      "1 - Soma\n",
      "2 - Substração\n",
      "3 - Multiplicação\n",
      "4- Divisão\n",
      "\n",
      "\n",
      "Digita sua opção (1/2/3/4):  3\n",
      "Digite o primeiro número:  12\n",
      "Digite o segundo número:  3\n"
     ]
    },
    {
     "name": "stdout",
     "output_type": "stream",
     "text": [
      "12 * 3 = 36\n"
     ]
    }
   ],
   "source": [
    "print('********************** Calculadora em Python **********************')\n",
    "operacao = int(input('''Selecione o número da operação desejada:\\n\n",
    "1 - Soma\n",
    "2 - Substração\n",
    "3 - Multiplicação\n",
    "4- Divisão\\n\\n\n",
    "Digita sua opção (1/2/3/4): '''))\n",
    "\n",
    "numero_1 = int(input('Digite o primeiro número: '))\n",
    "numero_2 = int(input('Digite o segundo número: '))\n",
    "\n",
    "if operacao == 1:\n",
    "    print(f'{numero_1} + {numero_2} = {numero_1 + numero_2}')\n",
    "\n",
    "elif operacao == 2:\n",
    "    print(f'{numero_1} - {numero_2} = {numero_1 - numero_2}')\n",
    "\n",
    "elif operacao == 3:\n",
    "    print(f'{numero_1} * {numero_2} = {numero_1 * numero_2}')\n",
    "    \n",
    "else:\n",
    "    print(f'{numero_1} / {numero_2} = {numero_1 / numero_2}')\n"
   ]
  },
  {
   "cell_type": "code",
   "execution_count": 1,
   "id": "f60bd2a7-ce0a-4019-ae8f-aa9ca2097c3c",
   "metadata": {},
   "outputs": [],
   "source": [
    "lista = [1,2,3]"
   ]
  },
  {
   "cell_type": "code",
   "execution_count": 4,
   "metadata": {},
   "outputs": [],
   "source": [
    "from urllib.request import urlopen\n",
    "import json"
   ]
  },
  {
   "cell_type": "code",
   "execution_count": 5,
   "metadata": {},
   "outputs": [],
   "source": [
    "response = urlopen('http://vimeo.com/api/v2/video/57733101.json').read().decode('utf8')\n",
    "dados = json.loads(response)[0]"
   ]
  },
  {
   "cell_type": "code",
   "execution_count": 6,
   "metadata": {},
   "outputs": [
    {
     "data": {
      "text/plain": [
       "{'id': 57733101,\n",
       " 'title': 'The Good Man trailer',\n",
       " 'description': 'Trailer for the Manifesto Films production, The Good Man, now available in UK/Ireland/US/Canada/Australia/New Zealand on iTunes (https://itunes.apple.com/us/movie/the-good-man/id873130906) and DVD (http://www.amazon.co.uk/The-Good-Man-Aiden-Gillen/dp/B00IIK6CGU/). Co-production with Jet Black Entertainment (South Africa). Starring Aidan Gillen, Thabang Sidloyi, Kelly Campbell, Lunathi Mampofu. Written & directed by Phil Harrison. More info at www.thegoodmanfilm.com<br />\\r\\n<br />\\r\\nCheck out the Variety Magazine review here: http://www.variety.com/review/VE1117947909/',\n",
       " 'url': 'https://vimeo.com/57733101',\n",
       " 'upload_date': '2013-01-19 04:01:15',\n",
       " 'thumbnail_small': 'https://i.vimeocdn.com/video/436057121-e828a1f5478ec0136e957753d107f2a1268c64def9b82faac37c8e30c031cff2-d_100x75',\n",
       " 'thumbnail_medium': 'https://i.vimeocdn.com/video/436057121-e828a1f5478ec0136e957753d107f2a1268c64def9b82faac37c8e30c031cff2-d_200x150',\n",
       " 'thumbnail_large': 'https://i.vimeocdn.com/video/436057121-e828a1f5478ec0136e957753d107f2a1268c64def9b82faac37c8e30c031cff2-d_640',\n",
       " 'user_id': 1334563,\n",
       " 'user_name': 'Manifesto Films',\n",
       " 'user_url': 'https://vimeo.com/manifestofilms',\n",
       " 'user_portrait_small': 'https://i.vimeocdn.com/portrait/4778306_30x30',\n",
       " 'user_portrait_medium': 'https://i.vimeocdn.com/portrait/4778306_75x75',\n",
       " 'user_portrait_large': 'https://i.vimeocdn.com/portrait/4778306_100x100',\n",
       " 'user_portrait_huge': 'https://i.vimeocdn.com/portrait/4778306_300x300',\n",
       " 'stats_number_of_likes': 18,\n",
       " 'stats_number_of_plays': 6653,\n",
       " 'stats_number_of_comments': 0,\n",
       " 'duration': 143,\n",
       " 'width': 1024,\n",
       " 'height': 576,\n",
       " 'tags': 'belfast, cape town, africa, ireland, film',\n",
       " 'embed_privacy': 'anywhere'}"
      ]
     },
     "execution_count": 6,
     "metadata": {},
     "output_type": "execute_result"
    }
   ],
   "source": [
    "dados"
   ]
  },
  {
   "cell_type": "code",
   "execution_count": 8,
   "metadata": {},
   "outputs": [
    {
     "name": "stdout",
     "output_type": "stream",
     "text": [
      "The Good Man trailer\n",
      "https://vimeo.com/57733101\n",
      "6653\n"
     ]
    }
   ],
   "source": [
    "print(dados['title'])\n",
    "print(dados['url'])\n",
    "print(dados['stats_number_of_plays'])"
   ]
  },
  {
   "cell_type": "markdown",
   "metadata": {},
   "source": [
    "## Função map\n"
   ]
  },
  {
   "cell_type": "code",
   "execution_count": 9,
   "metadata": {},
   "outputs": [],
   "source": [
    "#aplica uma função em um objeto iteravel\n",
    "\n",
    "def potencia(x):\n",
    "    return x ** 2"
   ]
  },
  {
   "cell_type": "code",
   "execution_count": 10,
   "metadata": {},
   "outputs": [],
   "source": [
    "numeros = [1, 2, 3, 4, 5]"
   ]
  },
  {
   "cell_type": "code",
   "execution_count": 12,
   "metadata": {},
   "outputs": [],
   "source": [
    "#aplica a função potencia em cada elemento da lista numeros\n",
    "numeros_ao_quadrado = list(map(potencia, numeros))"
   ]
  },
  {
   "cell_type": "code",
   "execution_count": 14,
   "metadata": {},
   "outputs": [
    {
     "data": {
      "text/plain": [
       "[-17.77777777777778,\n",
       " -1.1111111111111112,\n",
       " 4.444444444444445,\n",
       " 26.666666666666668]"
      ]
     },
     "execution_count": 14,
     "metadata": {},
     "output_type": "execute_result"
    }
   ],
   "source": [
    "#dá pra usar lambda junto com map, sendo que lambda é uma função anonima e o map \n",
    "# aplicará a função lambda em cada elemento da lista\n",
    "\n",
    "temperaturas = [0, 30, 40, 80]\n",
    "\n",
    "list(map(lambda x: (5.0/9)*(x-32), temperaturas))"
   ]
  },
  {
   "cell_type": "markdown",
   "metadata": {},
   "source": [
    "## Função Reduce"
   ]
  },
  {
   "cell_type": "code",
   "execution_count": 15,
   "metadata": {},
   "outputs": [],
   "source": [
    "from functools import reduce"
   ]
  },
  {
   "cell_type": "code",
   "execution_count": 16,
   "metadata": {},
   "outputs": [],
   "source": [
    "lista = [47, 11, 42, 13]"
   ]
  },
  {
   "cell_type": "code",
   "execution_count": 17,
   "metadata": {},
   "outputs": [],
   "source": [
    "def soma(a, b):\n",
    "    return a + b"
   ]
  },
  {
   "cell_type": "code",
   "execution_count": 18,
   "metadata": {},
   "outputs": [
    {
     "data": {
      "text/plain": [
       "113"
      ]
     },
     "execution_count": 18,
     "metadata": {},
     "output_type": "execute_result"
    }
   ],
   "source": [
    "reduce(soma, lista)"
   ]
  },
  {
   "cell_type": "code",
   "execution_count": 19,
   "metadata": {},
   "outputs": [
    {
     "data": {
      "text/plain": [
       "113"
      ]
     },
     "execution_count": 19,
     "metadata": {},
     "output_type": "execute_result"
    }
   ],
   "source": [
    "reduce(lambda x,y: x+y, lista)"
   ]
  },
  {
   "cell_type": "markdown",
   "metadata": {},
   "source": [
    "## Função Filter"
   ]
  },
  {
   "cell_type": "code",
   "execution_count": 26,
   "metadata": {},
   "outputs": [
    {
     "data": {
      "text/plain": [
       "[4, 6, 30]"
      ]
     },
     "execution_count": 26,
     "metadata": {},
     "output_type": "execute_result"
    }
   ],
   "source": [
    "#a função filter retorna os dados filtrados de acordo com a função passada como parametro\n",
    "#Retorna apenas True\n",
    "\n",
    "lista = [1, 3, 4, 6, 7, 11, 30]\n",
    "\n",
    "def par(num):\n",
    "        if num % 2 == 0:\n",
    "            return True\n",
    "        else:\n",
    "            return False\n",
    "        \n",
    "list(filter(par, lista))"
   ]
  },
  {
   "cell_type": "markdown",
   "metadata": {},
   "source": [
    "## Função zip e enumerate\n"
   ]
  },
  {
   "cell_type": "code",
   "execution_count": null,
   "metadata": {},
   "outputs": [
    {
     "data": {
      "text/plain": [
       "[(1, 4), (2, 5), (3, 6)]"
      ]
     },
     "execution_count": 28,
     "metadata": {},
     "output_type": "execute_result"
    }
   ],
   "source": [
    "#zip\n",
    "\n",
    "\n",
    "x = [1, 2, 3]\n",
    "y = [4, 5, 6]\n",
    "\n",
    "list(zip(x, y))"
   ]
  },
  {
   "cell_type": "code",
   "execution_count": 2,
   "metadata": {},
   "outputs": [
    {
     "data": {
      "text/plain": [
       "[(0, 'a'), (1, 'b'), (2, 'c')]"
      ]
     },
     "execution_count": 2,
     "metadata": {},
     "output_type": "execute_result"
    }
   ],
   "source": [
    "#enumerate\n",
    "seq = ['a', 'b', 'c']\n",
    "enumerate(seq)\n",
    "\n",
    "list(enumerate(seq))"
   ]
  },
  {
   "cell_type": "code",
   "execution_count": 3,
   "metadata": {},
   "outputs": [
    {
     "name": "stdout",
     "output_type": "stream",
     "text": [
      "0 a\n",
      "1 b\n",
      "2 c\n"
     ]
    }
   ],
   "source": [
    "for i, item in enumerate(seq):\n",
    "    print(i, item)"
   ]
  },
  {
   "cell_type": "code",
   "execution_count": 4,
   "metadata": {},
   "outputs": [
    {
     "name": "stdout",
     "output_type": "stream",
     "text": [
      "0 a\n",
      "1 b\n",
      "2 c\n"
     ]
    }
   ],
   "source": [
    "for indice, valor in enumerate(seq):\n",
    "    print(indice, valor)"
   ]
  },
  {
   "cell_type": "code",
   "execution_count": 7,
   "metadata": {},
   "outputs": [
    {
     "name": "stdout",
     "output_type": "stream",
     "text": [
      "c\n"
     ]
    }
   ],
   "source": [
    "for indice, valor in enumerate(seq):\n",
    "    if indice ==2:\n",
    "        print(valor)"
   ]
  },
  {
   "cell_type": "markdown",
   "metadata": {},
   "source": [
    "## Tratamento de Erros e Exceções\n"
   ]
  },
  {
   "cell_type": "code",
   "execution_count": 9,
   "metadata": {},
   "outputs": [
    {
     "name": "stdout",
     "output_type": "stream",
     "text": [
      "Operação não permitida\n"
     ]
    }
   ],
   "source": [
    "try: \n",
    "    8 + 's'\n",
    "except TypeError:\n",
    "    print('Operação não permitida')"
   ]
  },
  {
   "cell_type": "code",
   "execution_count": 18,
   "metadata": {},
   "outputs": [],
   "source": [
    "#a função fica pedindo numero para o usuario até digitar um inteiro\n",
    "def askint():\n",
    "    while True: \n",
    "        try:\n",
    "            val = int(input('Digite um número: '))\n",
    "        except:\n",
    "            print('Você não digitou um número!')\n",
    "            continue\n",
    "        else:\n",
    "            print('Obrigado por digitar um número!')\n",
    "            break           \n",
    "        finally:\n",
    "            print('Obrigado!')\n",
    "        print(val)  "
   ]
  },
  {
   "cell_type": "code",
   "execution_count": 19,
   "metadata": {},
   "outputs": [
    {
     "name": "stdout",
     "output_type": "stream",
     "text": [
      "Você não digitou um número!\n",
      "Obrigado!\n",
      "Você não digitou um número!\n",
      "Obrigado!\n",
      "Você não digitou um número!\n",
      "Obrigado!\n",
      "Você não digitou um número!\n",
      "Obrigado!\n",
      "Você não digitou um número!\n",
      "Obrigado!\n",
      "Você não digitou um número!\n",
      "Obrigado!\n",
      "Obrigado por digitar um número!\n",
      "Obrigado!\n"
     ]
    }
   ],
   "source": [
    "askint()\n"
   ]
  },
  {
   "cell_type": "markdown",
   "metadata": {},
   "source": [
    "## Expressões Regulares"
   ]
  },
  {
   "cell_type": "code",
   "execution_count": 22,
   "metadata": {},
   "outputs": [],
   "source": [
    "import re\n",
    " #regular expressions"
   ]
  },
  {
   "cell_type": "code",
   "execution_count": 37,
   "metadata": {},
   "outputs": [],
   "source": [
    "texto = 'Meu email é osonodenewton@gmail.com e você pode falar comigo aqui ou pelo email maicon.kevyn@ufrgs.br'"
   ]
  },
  {
   "cell_type": "code",
   "execution_count": 38,
   "metadata": {},
   "outputs": [
    {
     "name": "stdout",
     "output_type": "stream",
     "text": [
      "2\n"
     ]
    }
   ],
   "source": [
    "#Quantas vezes aparece o caracter @ no texto\n",
    "resultado = len(re.findall(\"@\", texto))\n",
    "print(resultado)"
   ]
  },
  {
   "cell_type": "code",
   "execution_count": 39,
   "metadata": {},
   "outputs": [
    {
     "name": "stdout",
     "output_type": "stream",
     "text": [
      "['pode']\n"
     ]
    }
   ],
   "source": [
    "#extrair a palavra que vem dps da palavra \"você\"\n",
    "#r indica que é uma expressão regular e não uma string\n",
    "\n",
    "resultado = re.findall(r'você (\\w+)', texto)\n",
    "print(resultado) #retorna uma lista"
   ]
  },
  {
   "cell_type": "code",
   "execution_count": 40,
   "metadata": {},
   "outputs": [],
   "source": [
    "#quero extrair os emails do texto   \n",
    "\n",
    "emails = re.findall(r'\\b[A-Za-z0-9._%+-]+@[A-Za-z0-9.-]+\\.[A-Z | a-z]{2,}\\b', texto)\n"
   ]
  },
  {
   "cell_type": "code",
   "execution_count": 36,
   "metadata": {},
   "outputs": [
    {
     "name": "stdout",
     "output_type": "stream",
     "text": [
      "['osonodenewton@gmail.com e ']\n"
     ]
    }
   ],
   "source": [
    "print(emails)"
   ]
  },
  {
   "cell_type": "code",
   "execution_count": 41,
   "metadata": {},
   "outputs": [
    {
     "data": {
      "text/plain": [
       "['osonodenewton@gmail.com', 'maicon.kevyn@ufrgs.br']"
      ]
     },
     "execution_count": 41,
     "metadata": {},
     "output_type": "execute_result"
    }
   ],
   "source": [
    "emails = re.findall(r'[\\w\\.-]+@[\\w\\.-]+', texto)\n",
    "emails"
   ]
  },
  {
   "cell_type": "code",
   "execution_count": 43,
   "metadata": {},
   "outputs": [
    {
     "data": {
      "text/plain": [
       "['osonodenewton@gmail.com e ', 'maicon.kevyn@ufrgs.br']"
      ]
     },
     "execution_count": 43,
     "metadata": {},
     "output_type": "execute_result"
    }
   ],
   "source": [
    "emails = re.findall(r'\\b[A-Za-z0-9._%+-]+@[A-Za-z0-9.-]+\\.[A-Z | a-z]{2,}\\b', texto)\n",
    "emails"
   ]
  }
 ],
 "metadata": {
  "kernelspec": {
   "display_name": "Python 3 (ipykernel)",
   "language": "python",
   "name": "python3"
  },
  "language_info": {
   "codemirror_mode": {
    "name": "ipython",
    "version": 3
   },
   "file_extension": ".py",
   "mimetype": "text/x-python",
   "name": "python",
   "nbconvert_exporter": "python",
   "pygments_lexer": "ipython3",
   "version": "3.11.5"
  }
 },
 "nbformat": 4,
 "nbformat_minor": 5
}
